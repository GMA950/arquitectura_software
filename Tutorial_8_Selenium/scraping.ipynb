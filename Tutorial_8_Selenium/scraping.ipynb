{
 "cells": [
  {
   "cell_type": "markdown",
   "metadata": {},
   "source": [
    "# Scraping de datos e Integración MySQL/Python"
   ]
  },
  {
   "cell_type": "code",
   "execution_count": 1,
   "metadata": {},
   "outputs": [
    {
     "name": "stdout",
     "output_type": "stream",
     "text": [
      "Python 2.7.18\r\n"
     ]
    }
   ],
   "source": [
    "!python -V"
   ]
  },
  {
   "cell_type": "code",
   "execution_count": 2,
   "metadata": {},
   "outputs": [
    {
     "name": "stdout",
     "output_type": "stream",
     "text": [
      "pip 20.3.3 from /home/gma950/.local/lib/python3.8/site-packages/pip (python 3.8)\r\n"
     ]
    }
   ],
   "source": [
    "!pip -V"
   ]
  },
  {
   "cell_type": "markdown",
   "metadata": {},
   "source": [
    "## 1. Realizar consultas HTTP en Python: _Requests_\n",
    "\n",
    "[_Requests_](https://2.python-requests.org//es/latest/) es una librería Python que facilita el envio de consultas HTTP/1.1."
   ]
  },
  {
   "cell_type": "code",
   "execution_count": 3,
   "metadata": {
    "scrolled": true
   },
   "outputs": [
    {
     "name": "stdout",
     "output_type": "stream",
     "text": [
      "Defaulting to user installation because normal site-packages is not writeable\n",
      "Requirement already satisfied: requests in /usr/lib/python3/dist-packages (2.23.0)\n"
     ]
    }
   ],
   "source": [
    "!pip install requests"
   ]
  },
  {
   "cell_type": "code",
   "execution_count": 5,
   "metadata": {},
   "outputs": [],
   "source": [
    "import requests"
   ]
  },
  {
   "cell_type": "code",
   "execution_count": 10,
   "metadata": {},
   "outputs": [
    {
     "name": "stdout",
     "output_type": "stream",
     "text": [
      "Defaulting to user installation because normal site-packages is not writeable\n",
      "Requirement already satisfied: beautifulsoup4 in /home/gma950/.local/lib/python3.8/site-packages (4.9.3)\n",
      "Requirement already satisfied: soupsieve>1.2 in /home/gma950/.local/lib/python3.8/site-packages (from beautifulsoup4) (2.1)\n"
     ]
    }
   ],
   "source": [
    "!pip install beautifulsoup4"
   ]
  },
  {
   "cell_type": "code",
   "execution_count": 11,
   "metadata": {},
   "outputs": [
    {
     "name": "stdout",
     "output_type": "stream",
     "text": [
      "Defaulting to user installation because normal site-packages is not writeable\n",
      "Requirement already satisfied: html5lib in /home/gma950/.local/lib/python3.8/site-packages (1.1)\n",
      "Requirement already satisfied: six>=1.9 in /usr/local/lib/python3.8/dist-packages (from html5lib) (1.10.0)\n",
      "Requirement already satisfied: webencodings in /home/gma950/.local/lib/python3.8/site-packages (from html5lib) (0.5.1)\n"
     ]
    }
   ],
   "source": [
    "!pip install html5lib"
   ]
  },
  {
   "cell_type": "code",
   "execution_count": 12,
   "metadata": {},
   "outputs": [
    {
     "name": "stdout",
     "output_type": "stream",
     "text": [
      "Defaulting to user installation because normal site-packages is not writeable\n",
      "Requirement already satisfied: urllib3 in /home/gma950/.local/lib/python3.8/site-packages (1.26.2)\n"
     ]
    }
   ],
   "source": [
    "!pip install --upgrade urllib3"
   ]
  },
  {
   "cell_type": "code",
   "execution_count": 1,
   "metadata": {},
   "outputs": [],
   "source": [
    "from urllib.request import urlopen as uReq\n",
    "import urllib.request\n",
    "\n",
    "from bs4 import BeautifulSoup as soup\n",
    "from selenium import webdriver\n",
    "import time"
   ]
  },
  {
   "cell_type": "code",
   "execution_count": 50,
   "metadata": {},
   "outputs": [
    {
     "name": "stderr",
     "output_type": "stream",
     "text": [
      "[WDM] - Current google-chrome version is 87.0.4280\n",
      "[WDM] - Get LATEST driver version for 87.0.4280\n",
      "[WDM] - Driver [/home/gma950/.wdm/drivers/chromedriver/linux64/87.0.4280.88/chromedriver] found in cache\n"
     ]
    },
    {
     "name": "stdout",
     "output_type": "stream",
     "text": [
      " \n"
     ]
    }
   ],
   "source": [
    "from webdriver_manager.chrome import ChromeDriverManager\n",
    "\n",
    "\n",
    "browser = webdriver.Chrome(ChromeDriverManager().install())\n",
    "#browser = webdriver.Chrome()\n",
    "\n",
    "#myUrl = 'https://www.yapo.cl/chile/todos_los_avisos?ca=12_s&l=0'\n",
    "myUrl = 'https://www.newegg.com/asus-geforce-rtx-2060-dual-rtx2060-o6g-evo/p/N82E16814126349?Item=9SIA8UCC2S4259&Description=rtx%202060&cm_re=rtx_2060-_-14-126-349-_-Product'\n",
    "#myUrl = 'https://www.yapo.cl/los_rios/todos_los_avisos?ca=11_s&l=0&w=1&cmn=243'\n",
    "browser.get(myUrl)"
   ]
  },
  {
   "cell_type": "code",
   "execution_count": 51,
   "metadata": {},
   "outputs": [
    {
     "name": "stdout",
     "output_type": "stream",
     "text": [
      "No hay popup\n"
     ]
    }
   ],
   "source": [
    "#new WebDriverWait(browser, 20).until(ExpectedConditions.elementToBeClickable(By.xpath(\"//*[text()='Add to cart']\"))).click();\n",
    "#element = browser.findElement(By.xpath(\"//*[text()='Add to cart']\"));\n",
    "from selenium.common.exceptions import NoSuchElementException\n",
    "from selenium.common.exceptions import TimeoutException\n",
    "from selenium.webdriver.support.ui import WebDriverWait\n",
    "from selenium.webdriver.support import expected_conditions as EC\n",
    "from selenium.webdriver.common.keys import Keys\n",
    "from selenium.webdriver.common.by import By\n",
    "#SI APARECE UN POPUP LO ELIMINAMOS\n",
    "try:\n",
    "    popup = EC.presence_of_element_located((By.ID, 'popup-close')) #ESPERAMOS A QUE SALGA EL POPUP\n",
    "    WebDriverWait(browser, 5).until(popup)\n",
    "    browser.find_element_by_xpath('//*[@id=\"popup-close\"]').click() #CUANDO APARECE LO CERRAMOS\n",
    "except TimeoutException:\n",
    "    print(\"No hay popup\")\n",
    "    \n",
    "#si presionamos el boton de compra inmediatamente se activa la proteccion antibot\n",
    "time.sleep(3)\n",
    "\n",
    "try:\n",
    "    popup = EC.presence_of_element_located((By.XPATH, '//button[text()=\"Add to cart \"]')) #ESPERAMOS A QUE CARGUE EL BOTON DE COMPRA\n",
    "    WebDriverWait(browser, 5).until(popup)\n",
    "    #buscamos el boton de comprar\n",
    "    browser.find_element_by_xpath('//button[text()=\"Add to cart \"]').click() #CUANDO APARECE LE HACEMOS CLICK\n",
    "except TimeoutException:\n",
    "    print(\"No cargo el boton de compra\")\n",
    "\n",
    "    \n",
    "\n",
    "#buscamos el boton de comprar y le hacemos click\n",
    "#element = browser.find_element_by_xpath('//button[text()=\"Add to cart \"]')\n",
    "#element.click()\n",
    "#esperamos un 1 segundo a que se abra la ventana de confirmacion\n",
    "#time.sleep(1)\n",
    "#si abre una ventana de compra con mas ofertas le damos aa buscar el boton de no gracias\n",
    "\n",
    "try:\n",
    "    popup = EC.presence_of_element_located((By.XPATH, '//button[text()=\"No, thanks\"]')) #SI OFRECEN MAS OFERTAS LE DECIMOS QUE NO\n",
    "    WebDriverWait(browser, 5).until(popup)\n",
    "    #buscamos el boton de comprar\n",
    "    browser.find_element_by_xpath('//button[text()=\"No, thanks\"]').click()  #CUANDO APARECE LE HACEMOS CLICK\n",
    "except TimeoutException:\n",
    "    print(\"No mas ofertas\")\n",
    "\n",
    "\n",
    "\n",
    "#try:\n",
    "#    browser.find_element_by_xpath('//button[text()=\"No, thanks\"]').click() \n",
    "#except NoSuchElementException:\n",
    "#    print(\"No mas ofertas\")\n",
    "#time.sleep(1)\n",
    "#hacemos el checkout\n",
    "#element3 = browser.find_element_by_xpath('//button[text()=\"View Cart & Checkout\"]')\n",
    "#element3.click()\n",
    "\n",
    "\n",
    "try:\n",
    "    compra = EC.presence_of_element_located((By.XPATH, '//button[text()=\"View Cart & Checkout\"]')) #ESPERAMOS A QUE APAREZCA EL BOTON DE CHECKOUT\n",
    "    WebDriverWait(browser, 2).until(compra)\n",
    "    #buscamos el boton de checkout\n",
    "    browser.find_element_by_xpath('//button[text()=\"View Cart & Checkout\"]').click()  #CUANDO APARECE LE HACEMOS CLICK\n",
    "except TimeoutException:\n",
    "    print(\"ERROR\")\n",
    "\n",
    "\n",
    "\n",
    "\n",
    "#time.sleep(1)\n",
    "#en esta parte suelen aparecer mas popups si los hay se cerraran\n",
    "#try:\n",
    "#    browser.find_element_by_class_name('close').click()\n",
    "#except NoSuchElementException:\n",
    "#    print(\"No hay popup\")\n",
    "    \n",
    "#en esta parte suelen aparecer mas popups si los hay se cerraran   \n",
    "\n",
    "try:\n",
    "    popup = EC.presence_of_element_located((By.XPATH, \"//*[@class='close']\")) #ESPERAMOS A QUE SALGA EL POPUP\n",
    "    WebDriverWait(browser, 3).until(popup)\n",
    "    browser.find_element_by_class_name('close').click() #CUANDO APARECE LO CERRAMOS\n",
    "except TimeoutException:\n",
    "    print(\"No hay popup nuevamente\")  \n",
    "\n",
    "browser.find_element_by_xpath('//button[text()=\" Secure Checkout \"]').click()\n",
    "\n",
    "try:\n",
    "    email = EC.presence_of_element_located((By.ID, 'labeled-input-signEmail')) #ESPERAMOS A QUE EL FORMULARIO PARA LLENAR CON EL EMAIL\n",
    "    WebDriverWait(browser, 2).until(email)\n",
    "    browser.find_element_by_id('labeled-input-signEmail').send_keys('donrandomyt@gmail.com') #COLOCAMOS EL EMAIL\n",
    "except TimeoutException:\n",
    "    print(\"ERROR\")\n",
    "\n",
    "\n",
    "browser.find_element_by_xpath('//button[text()=\"SIGN IN\"]').click()\n",
    "\n",
    "\n"
   ]
  },
  {
   "cell_type": "code",
   "execution_count": 32,
   "metadata": {},
   "outputs": [],
   "source": []
  },
  {
   "cell_type": "code",
   "execution_count": 81,
   "metadata": {},
   "outputs": [],
   "source": []
  },
  {
   "cell_type": "code",
   "execution_count": 82,
   "metadata": {},
   "outputs": [],
   "source": []
  },
  {
   "cell_type": "code",
   "execution_count": 83,
   "metadata": {},
   "outputs": [],
   "source": []
  },
  {
   "cell_type": "code",
   "execution_count": 84,
   "metadata": {},
   "outputs": [],
   "source": [
    "\n"
   ]
  },
  {
   "cell_type": "code",
   "execution_count": 85,
   "metadata": {},
   "outputs": [],
   "source": []
  }
 ],
 "metadata": {
  "kernelspec": {
   "display_name": "Python 3",
   "language": "python",
   "name": "python3"
  },
  "language_info": {
   "codemirror_mode": {
    "name": "ipython",
    "version": 3
   },
   "file_extension": ".py",
   "mimetype": "text/x-python",
   "name": "python",
   "nbconvert_exporter": "python",
   "pygments_lexer": "ipython3",
   "version": "3.8.6"
  }
 },
 "nbformat": 4,
 "nbformat_minor": 2
}
